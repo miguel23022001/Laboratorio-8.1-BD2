{
 "cells": [
  {
   "cell_type": "markdown",
   "metadata": {},
   "source": [
    "# Laboratorio 8.1 BD2"
   ]
  },
  {
   "cell_type": "code",
   "execution_count": 31,
   "metadata": {},
   "outputs": [],
   "source": [
    "import numpy as np"
   ]
  },
  {
   "cell_type": "code",
   "execution_count": 32,
   "metadata": {},
   "outputs": [],
   "source": [
    "def w_tf(doc):\n",
    "    return np.log10(1 + doc)\n",
    "\n",
    "def score1(q, doc):\n",
    "    return np.dot(q, doc)\n",
    "\n",
    "def score2(q, doc):\n",
    "    return np.dot(q, doc) / (np.linalg.norm(q) * np.linalg.norm(doc))"
   ]
  },
  {
   "cell_type": "markdown",
   "metadata": {},
   "source": [
    "## Pregunta 1"
   ]
  },
  {
   "cell_type": "code",
   "execution_count": 33,
   "metadata": {},
   "outputs": [],
   "source": [
    "collection = [\n",
    "    np.array([15,5,20,25]),\n",
    "    np.array([30,0,22,0])\n",
    "]\n",
    "query = np.array([115,10,2,0])\n",
    "\n",
    "#Amortiguar\n",
    "query = w_tf(query)\n",
    "for i in range(len(collection)):\n",
    "    collection[i] = w_tf(collection[i])"
   ]
  },
  {
   "cell_type": "code",
   "execution_count": 36,
   "metadata": {},
   "outputs": [
    {
     "name": "stdout",
     "output_type": "stream",
     "text": [
      "Score1(Q, Doc1):  3.9270750671960504\n",
      "Score1(Q, Doc2):  3.7285628573705587\n"
     ]
    }
   ],
   "source": [
    "#aplicar el score1\n",
    "i=1\n",
    "for doc in collection:\n",
    "    sim = score1(query,doc)\n",
    "    print(\"Score1(Q, Doc{}): \".format(i), sim)\n",
    "    i+=1\n"
   ]
  },
  {
   "cell_type": "code",
   "execution_count": 37,
   "metadata": {},
   "outputs": [
    {
     "name": "stdout",
     "output_type": "stream",
     "text": [
      "Score2(Q, Doc1):  0.6903164162829324\n",
      "Score2(Q, Doc2):  0.7819962724645979\n"
     ]
    }
   ],
   "source": [
    "#aplicar el score2\n",
    "i=1\n",
    "for doc in collection:\n",
    "    sim = score2(query,doc)\n",
    "    print(\"Score2(Q, Doc{}): \".format(i), sim)\n",
    "    i+=1"
   ]
  },
  {
   "cell_type": "markdown",
   "metadata": {},
   "source": [
    "## Pregunta 2"
   ]
  },
  {
   "cell_type": "code",
   "execution_count": 44,
   "metadata": {},
   "outputs": [],
   "source": [
    "collection = [\n",
    "    np.array([1.452,0,2.122,3.564,4.123,0,0,2.342,0,0,0,1.975,4.543,0,6.134,2.234]),\n",
    "    np.array([0,2.093,0,0,4.245,1.234,0,0,0,0,2.345,0,2.135,0,0,3.456])\n",
    "]\n",
    "\n",
    "query = np.array([0,1.345,1.453,1.987,0,2.133,0,0,0,0,0,0,3.452,0,0,4.234])"
   ]
  },
  {
   "cell_type": "code",
   "execution_count": 50,
   "metadata": {},
   "outputs": [
    {
     "name": "stdout",
     "output_type": "stream",
     "text": [
      "Score1(Q, Doc1):  35.306126000000006\n",
      "Score1(Q, Doc2):  27.449931\n"
     ]
    }
   ],
   "source": [
    "#aplicar el score1\n",
    "i=1\n",
    "for doc in collection:\n",
    "    sim = score1(query, doc)\n",
    "    print(\"Score1(Q, Doc{}): \".format(i), sim)\n",
    "    i+=1"
   ]
  },
  {
   "cell_type": "code",
   "execution_count": 51,
   "metadata": {},
   "outputs": [
    {
     "name": "stdout",
     "output_type": "stream",
     "text": [
      "Score2(Q, Doc1):  0.520305818475368\n",
      "Score2(Q, Doc2):  0.6230857580291272\n"
     ]
    }
   ],
   "source": [
    "#aplicar el score2\n",
    "i=1\n",
    "for doc in collection:\n",
    "    sim = score2(query, doc)\n",
    "    print(\"Score2(Q, Doc{}): \".format(i), sim)\n",
    "    i+=1"
   ]
  },
  {
   "cell_type": "markdown",
   "metadata": {},
   "source": [
    "## Pregunta 3"
   ]
  },
  {
   "cell_type": "code",
   "execution_count": null,
   "metadata": {},
   "outputs": [],
   "source": [
    "'''\n",
    "index = {\n",
    "    w1: {idf: 1.6, pub: [(2, tf2), (4, tf4), (9, tf9)]},\n",
    "    w2: {idf: 1.7, pub: [(3, tf3), (4,tf4)]},\n",
    "    w3: {idf: 10.8, pub: [(1, tf1), (3, tf3), (5, tf5)]}\n",
    "    ...\n",
    "}\n",
    "\n",
    "length = {\n",
    "    doc1: norm1,\n",
    "    doc2: norm2,\n",
    "    doc3: norm3\n",
    "}\n",
    "'''\n",
    "class InvertIcdex:\n",
    "    self.index = {}\n",
    "    \n",
    "    def __init__(self, file):\n",
    "        self.file = file\n",
    "    \n",
    "    def building(self, collection_strem):\n",
    "        #build the index with collection_strem\n",
    "        #compute and store the norms\n",
    "        self.index = {}\n",
    "        self.length = {}\n",
    "    \n",
    "    def retrieveCos(self, queryText, k):# retireve the top-k documents\n",
    "        self.loadIndex()#Leyendo desde el disco a la RAM\n",
    "        #diccionario  para el score por documento\n",
    "        score = {}\n",
    "        #procesar el query para extraer los terminos\n",
    "        queryTerms = self.getTerms(queryText)\n",
    "        #tf-idf del query\n",
    "        w_query = self.getTfIdf(queryTerms)\n",
    "        #recorer cada termino del query\n",
    "        for term in queryTerms:\n",
    "            listaPub = readBucket(self.index[term]['bucketFile'])\n",
    "            idf = self.index[term]['idf']\n",
    "            for (docId, tf) in score:\n",
    "                if docId not in score:\n",
    "                    score [docId] = 0\n",
    "                #computar la multiplicicacion punto\n",
    "                tf_idf_doc = (tf*idf)\n",
    "                score[docId] += tf_idf_doc * w_query[term]\n",
    "        #recuperar las normas de cada documento\n",
    "        for docId in score:\n",
    "            score[docId] = score[docId] / (self.length[docId] * self.getNorm(w_query))\n",
    "\n",
    "        result = dict(\n",
    "            sorted(score.items(), key = lambda item: item[1], reverse=True)[ : k]\n",
    "        )\n",
    "\n",
    "        return result"
   ]
  }
 ],
 "metadata": {
  "interpreter": {
   "hash": "b3ba2566441a7c06988d0923437866b63cedc61552a5af99d1f4fb67d367b25f"
  },
  "kernelspec": {
   "display_name": "Python 3.8.8 64-bit ('base': conda)",
   "name": "python3"
  },
  "language_info": {
   "codemirror_mode": {
    "name": "ipython",
    "version": 3
   },
   "file_extension": ".py",
   "mimetype": "text/x-python",
   "name": "python",
   "nbconvert_exporter": "python",
   "pygments_lexer": "ipython3",
   "version": "3.8.8"
  },
  "orig_nbformat": 4
 },
 "nbformat": 4,
 "nbformat_minor": 2
}
